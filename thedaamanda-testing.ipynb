{
 "cells": [
  {
   "cell_type": "code",
   "execution_count": 1,
   "id": "3694a2c0-b120-45e5-84c6-afe4a510c4f7",
   "metadata": {},
   "outputs": [],
   "source": [
    "import tensorflow as tf\n",
    "import requests\n",
    "import pandas as pd\n",
    "import os\n",
    "import base64\n",
    "import json"
   ]
  },
  {
   "cell_type": "code",
   "execution_count": 2,
   "id": "d671872d-80f0-4918-a657-ec75e7b29b07",
   "metadata": {},
   "outputs": [],
   "source": [
    "data_dir = \"data_clean\"\n",
    "file_name = 'fake_job_postings_clean.csv'"
   ]
  },
  {
   "cell_type": "code",
   "execution_count": 3,
   "id": "31a091fa-769c-42f7-a180-89d212e250e3",
   "metadata": {
    "editable": true,
    "slideshow": {
     "slide_type": ""
    },
    "tags": []
   },
   "outputs": [],
   "source": [
    "df = pd.read_csv(data_dir + '/' + file_name)"
   ]
  },
  {
   "cell_type": "code",
   "execution_count": 4,
   "id": "08a5b9d5-f864-4235-a7a4-9cbbc7801f79",
   "metadata": {},
   "outputs": [],
   "source": [
    "test_fake = df['text'][0]\n",
    "test_real = df['text'][98]"
   ]
  },
  {
   "cell_type": "code",
   "execution_count": 5,
   "id": "20617f62-e2df-4fcc-b985-7a2a1607aea6",
   "metadata": {
    "editable": true,
    "slideshow": {
     "slide_type": ""
    },
    "tags": []
   },
   "outputs": [],
   "source": [
    "def prepare_json(text):\n",
    "    feature_spec = {\n",
    "        \"text\": tf.train.Feature(bytes_list=tf.train.BytesList(value=[bytes(text, \"utf-8\")]))\n",
    "    }\n",
    "    \n",
    "    example = tf.train.Example(\n",
    "        features=tf.train.Features(feature=feature_spec)\n",
    "    ).SerializeToString()\n",
    "    \n",
    "    result = [\n",
    "        {\n",
    "            \"examples\": {\n",
    "                \"b64\": base64.b64encode(example).decode()\n",
    "            }\n",
    "        }\n",
    "    ]\n",
    "    \n",
    "    return json.dumps({\n",
    "        \"signature_name\": \"serving_default\",\n",
    "        \"instances\": result\n",
    "    })"
   ]
  },
  {
   "cell_type": "code",
   "execution_count": 6,
   "id": "f6fac349-db16-4225-a53c-5408d5072b91",
   "metadata": {},
   "outputs": [],
   "source": [
    "def predict(text):\n",
    "    json_data = prepare_json(text)\n",
    "    \n",
    "    endpoint = \"http://localhost:8080/v1/models/real-or-fake-jobs-detection-model:predict\"\n",
    "    response = requests.post(endpoint, data=json_data)\n",
    "\n",
    "    prediction = response.json()[\"predictions\"][0][0]\n",
    "    return \"Berita Faktual\" if prediction > 0.7 else \"Berita Palsu\""
   ]
  },
  {
   "cell_type": "code",
   "execution_count": 7,
   "id": "be5f71be-4a78-4676-8535-1efbc0d789ba",
   "metadata": {},
   "outputs": [
    {
     "data": {
      "text/plain": [
       "'Berita Palsu'"
      ]
     },
     "execution_count": 7,
     "metadata": {},
     "output_type": "execute_result"
    }
   ],
   "source": [
    "predict(test_fake)"
   ]
  },
  {
   "cell_type": "code",
   "execution_count": 8,
   "id": "f273795e-dbd3-44e6-8395-141a121ecaf5",
   "metadata": {},
   "outputs": [
    {
     "data": {
      "text/plain": [
       "'Berita Faktual'"
      ]
     },
     "execution_count": 8,
     "metadata": {},
     "output_type": "execute_result"
    }
   ],
   "source": [
    "predict(test_real)"
   ]
  }
 ],
 "metadata": {
  "kernelspec": {
   "display_name": "Python 3 (ipykernel)",
   "language": "python",
   "name": "python3"
  },
  "language_info": {
   "codemirror_mode": {
    "name": "ipython",
    "version": 3
   },
   "file_extension": ".py",
   "mimetype": "text/x-python",
   "name": "python",
   "nbconvert_exporter": "python",
   "pygments_lexer": "ipython3",
   "version": "3.9.19"
  }
 },
 "nbformat": 4,
 "nbformat_minor": 5
}
